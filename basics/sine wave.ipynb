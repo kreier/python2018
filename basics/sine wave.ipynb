{
 "cells": [
  {
   "cell_type": "code",
   "execution_count": 1,
   "metadata": {},
   "outputs": [],
   "source": [
    "import numpy as np\n",
    "import matplotlib.pyplot as plt\n",
    "from IPython.display import (\n",
    "    Audio, display, clear_output)\n",
    "from ipywidgets import widgets\n",
    "from functools import partial\n",
    "%matplotlib inline"
   ]
  },
  {
   "cell_type": "code",
   "execution_count": 2,
   "metadata": {},
   "outputs": [],
   "source": [
    "rate = 16000.\n",
    "duration = .5\n",
    "t = np.linspace(\n",
    "    0., duration, int(rate * duration))"
   ]
  },
  {
   "cell_type": "code",
   "execution_count": 3,
   "metadata": {},
   "outputs": [],
   "source": [
    "def synth(f):\n",
    "    x = np.sin(f * 2. * np.pi * t)\n",
    "    display(Audio(x, rate=rate, autoplay=True))"
   ]
  },
  {
   "cell_type": "code",
   "execution_count": 4,
   "metadata": {},
   "outputs": [
    {
     "data": {
      "text/html": [
       "\n",
       "                <audio controls=\"controls\" autoplay=\"autoplay\">\n",
       "                    <source src=\"data:audio/wav;base64,UklGRqQ+AABXQVZFZm10IBAAAAABAAEAgD4AAAB9AAACABAAZGF0YYA+AAAAAAIWXCtsP5hRVmEubr13u337f2p+FXklcN5jnVTXQhMv6Bn4A+rtZdgPxIGxSqHlk7mJE4MlgAaBsIX/jbKZcqjOuUHNN+IQ+CUOzyNoOFJL/1vtabR0AXycf2p/bHvBc6RoaFp7SV42oiHlC8/1BeAwy+230KZamPyMCoXDgEWAloObiiCV06JOsxHGjtoo8DsGHxwsMcJETFZEZThxzHnAfux/Sn3sdgJt2l/XT3M9OinGE739xeeF0qC+raw2nbCQe4fdgQKA9oGrh/aQkJ0ZrRm/CdNQ6Ev+UhTAKe89RVA4YExtIHdmffF/rH6gefZw7WTkVUtEqTCUG60FnO8G2pPF3LJzotKUY4p1gzyA0oAyhTqNrpg1p2K4scuO4Fz2cgwqIt4270nMWvVo/nOSe3d/kX/de3p0nWmcW+BK6TdHI5gNg/eu4b/MWLkLqF6Zvo2HhfWALIAyg++JMZSqofGxjMTs2HbuhQRzGpcvUEMHVTZkaXBDeYB++H+gfYt35W36YCtR8T7XKnYVc/9z6R/UGcD7rU6ei5ERiCuCBICtgRmHH5B7nM2ror1w0aLmlfyiEiEobjzvThVfZmx9dgx94X/ofiZ6wXH4ZSZXu0U9Mj8dYgdO8anbGcc7tJ+jxJUSi9yDWYCkgLmEe4yul/yl+bYjyufeqPS+CoQgUTWISJZZ+GdCcx17TX+yf0l8LHWSastcQUxxOeskSw84+VfjUs7GukupZZqGjgmGLYEZgNSCSYlIk4SgmLAKw0zXxezQAsYYAC7aQb5TJGOWb7R4On7+f/F9JHjDbhVie1JsQHIsJRcnASLru9WWwU2va59qkq2IfoILgGmBjIZNj2qbhqotvNrP9uTg+vEQgSbrOpRN7l17a9V1rHzMfx5/pnqHcv5mZVgpR84z6B4XCQHzTt2jyJ610KS6lseLSoR8gHuAR4TBi7OWx6STtZfIQd308goJ3B7CMx5HW1j3ZoFyonocf81/r3zadYJr912fTfc6jSb9EO36A+Xmzzi8j6pym1OPkIZrgQuAe4KoiGSSY59Dr4rBr9UV6xsBGBdmLGFAclINYr1uIHjvff5/PH64eJxvLGPIU+VBDC7TGN0C0uxZ1xXDorCNoE+TTonWghmAK4EFhoCOXppCqby6Rs5L4yv5Pg/eJGU5N0zCXItqJ3VGfLF/Tn8ge0hzAGifWZNIXTWQIMsKtfTz3i7KBLcFprWXgYy9hKWAWIDZgw2LvJWWozG0Dsed20HxVQcyHTEysEUdV/Blu3EieuZ+4n8PfYJ2bWweX/lOejwtKK8Sovyv5nzRrb3Xq4OcJZAdh6+BA4Aogg2IhJFGnvGtDsAT1GbpZv9qFcsq5j4hUfFg322Gd559+H+Cfkd5b3A+ZBFVW0OjL4AakgSD7vjYl8T7sbKhOJT0iTWDLYDzgIOFuY1WmQKoTbm0zKHhdveMDTsj3TfVSpNblml0dNp7kH94f5V7A3T8aNVa+UnpNjcifwxp9pvgvMttuD+ntZhAjTaF1IA7gHKDXorLlGqi0rKHxfrZj++gBYgbnTBARNpV5mTwcJx5qn7xf2l9JHdTbUBgT1D6PcwpXxRY/lzoFdMkvyKtmJ39kLCH+IECgNuBd4eqkC6do6yUvnnSuOex/boTLilnPc1P0l/8bOd2R33sf8F+0Hk+cUxlVlbNRDgxKxxIBjXwmtocxliz3KInlaCKmYNGgMGAB4X2jFOYxqbityTL+d/C9dgLlSFSNnFJX1qcaLxzaXtpf51/BHy5dPRpB1xdS3M42yMyDh34ROJNzdm5fKi6mQSOtIUIgSSAEIO0id6TQaF3sQPEWdje7esD3BkHL8xClFTWYx9wEXlofvt/vn3BdzRuXmGiUXc/aCsOFgwAC+qw1J/Acq6yntmRSIhHggaAlIHmhtSPGpxZqx694dAL5vv7CRKOJ+Y7dU6tXhRsQnbrfNp/+35UegdyVWaXVz1GyzLVHfwH6PE93KTHuLQKpBqWUYsChGWAlYCQhDmMVZePpXq2l8lS3g70JAruH8U0CUgnWZ5n/nLyejx/vH9tfGp152o1Xb1M+zl/JeQP0vnu4+DOSbu9qcSazo44hkKBE4C0ghCJ95IdoB+wgsK61i3sNgIvGG8tVUFJU8JiSm+AeCB+/n8Mfll4EG94YvFS8kADLb0XwgG6603WHcLFr9GfupLliJyCEIBTgVyGBI8LmxOqqrtLz1/kRvpXEO0lYjoZTYVdJ2uYdYh8w38vf9J6y3JaZ9RYqUdbNH4fsQmb8+LdLskctj2lEpcIjHKEioBugB+EgYtbllukFrUMyK3cW/JwCEYeNTOdRutXm2Y8cnZ6Cn/Vf9F8FnbWa19eGU5/OyAnlhGH+5rlddC7vAKr0pudj8GGgoEIgF2CcYgUkv6ey64EwR3VfeqAAIEW1SvcP/tRqWFvbup30338f1Z+63jnb41jPVRpQpwuahl3A2vt69edwxyx9KChk4iJ94IfgBeB1oU5jgCa0ag6urfNteKR+KUOSyTbOLpLWFw1aul0IHymf15/SnuKc1poDVoSSek1JSFlC0/1id+7yoO3c6YPmMSM54S1gE6AtIPPimeVLKO1s4TGCduo8LsGnByjMS9Fq1aTZXRx9HnRfuh/L328dr9shV9yTwE9wChHEz39RucM0jG+S6zknHGQUIfIgQKADILXhzaR4517rYi/gtPO6Mz+0RQ5Kl8+qVCMYI9tTneAffR/mX54eblwnmSEVd5DMjAXGy0FHO+M2SDFdrIbooyUMIpXgzWA4YBWhXON+piSp824JswL4dz28gymIlI3WEonWz9pNHSze4N/hn+9e0R0VWlCW3dKdTfLIhgNA/cx4UrM7biupxGZhY1iheWAM4BPgyGKd5QBoley/sRn2fbuBgXxGg4wvUNnVYZkp3BseZN+9X+HfVx3o22mYMdQgT5eKvcU8v706KbTqr+YrfudSpHlhxOCAoDBgUOHXpDMnC6sEL7o0SDnFv0hE5so4DxUT2tfqmytdid95n/Wfv95hnGqZchWT0XGMcIc4gbO8C7bpsbUs0ajfJXeir2DUICxgNyEs4z5l1imY7eXymPfKPU+CwAhxjXySPJZQ2h6c0B7Wn+pfyp8+HRLanNc2Uv+OHAkyw63+Nri281auu2oF5pLjuKFHIEegO+CeYmMk9qg/bB7w8fXRe1RA0UZeC5IQh9UdWPUb994T379f9p9+HeCbsJhGVL9P/orpxanAKPqQdUlwemuF58okn+IZYIIgHyBtYaKj7qb5aqavFHQdOVh+3AR+yZdO/tNRV7Bawd2yXzTfw5/gXpNcrJmB1i9Rlgzax6WCIHy0twvyDW1dqRxlpGLKYRxgIeAaIT4i/yWIqX8tQvJvd1084oJWR84NIlHuFhDZ7pyx3orf8V/kXyndTxrn104TYQ6EiZ+EGz6heRvz8u7L6oimxaPaIZYgQ6AlILXiKaSt5+nr/vBKNaU65sBlxffLNBA1FJfYv1uTHgGfv5/J36NeF1v22JnU3dBky1VGFwCU+zf1qTCPbA3oAuTHom8ghSAPYEshryOrJqhqSi7vM7I46z5vg9aJdg5nkwbXdJqW3VkfLl/QH/9eg9ztWdDWShI6DQUIEsKNfR33rrJmraqpWuXSoyahJiAYoD5g0GLBJbwo5m0gccY3MHx1gewHacyHEZ7Vz5m9nFIevZ+3H/zfFF2KGzHXpNOCDyzJy8SIvwx5gXRP712qzKc54/zhpqBBYBAgjqIxZGZnlSufsCM1OXp5//oFUQrVj+EUUVhIG60d7Z9+n9ufh55MnDuY7FU7UIrLwIaEgQE7n7YJcSVsVuh85PDiRiDJoADgaiF842jmWCoubkqzR7i9/cMDrYjUTg+S+1b32mpdPp7mn9sf3N7zHOzaHpakEl1Nroh/wvo9R7gR8sCuOKmapgHjRGFxYBDgJCDkYoSlcKiObP6xXXaD/AhBgUcFDGtRDlWNWUsccR5vH7tf0999XYQbetf60+JPVIp4BPX/d7nndK2vsCsRp29kISH4oECgPGBoofpkICdBa0Dv/HSNugx/jkUpynYPTFQJ2A/bRZ3YX3wf69+qHkCcf1k91VhRMEwrRvHBbXvH9qqxfGyhKLglG2Ke4M+gM+AK4UvjZ+YI6dNuJnLdeBC9lgMESLGNtpJulrmaPNzi3t1f5N/5HuEdKxprlv1SgA4YCOyDZ33x+HXzG25HqhtmcqNjoX4gCuALIPliSOUmKHdsXXE1Nhd7mwEWhp/LzpD9FQmZF1wO3l8fvl/pX2Ud/JtC2E/UQc/7yqQFY3/jOk31C/AD65fnpiRGogvggSAqIEQhxOQapy6q4y9WNGJ5nz8iBIJKFg82k4EX1lsc3YGfeB/634ues1xCGY5V9FFVDJYHXwHaPHC2zDHULSxo9KVHYvjg1uAoYCzhHCMn5fqpeS2C8rO3o70pQprIDo1c0iDWelnN3MWe0p/s39PfDd1oGrdXFZMiDkDJWUPUvlx42nO3LpeqXWako4QhjCBGIDOgj+JOpNzoISw88I016zstgKtGOgtxEGrUxRjiW+seDZ+/n/2fS140G4mYo9Sg0CKLD4XQQE769PVrMFhr3yfd5K2iIOCDIBlgYSGQY9am3KqF7zCz93kxvrXEGgm1DqATdxdbWvLdaZ8yn8hf616knIOZ3dYPkflMwEfMQkb82bdusizteKkyZbSi1CEf4B5gECEt4uklrWkfrWAyCjd2/LwCMMeqzMIR0lY52Z2cpt6GX/Of7R85HWQawhes00NO6UmFxEH+xzl/s9OvKKqgptfj5iGb4EKgHaCn4hWklKfL690wZbV/OoBAf8WTixLQF5S/GGwbhd46n3+f0F+wXiobzxj21P7QSQu7Bj3Auzscdcsw7awnqBck1iJ3IIagCiB/YV0jk6aL6mmui7OMuMR+SUPxiROOSJMsVx9ah11QHyvf1F/J3tTcw9osVmoSHQ1qSDlCs70DN9Gyhm3GKbEl4yMxISogFeA04MCi66VhaMctPfGhNso8TwHGR0ZMptFClfhZa9xGnrifuN/FH2LdntsL18NT5A8RijIErz8yOaU0cO96quTnDKQJoezgQOAJIIEiHeRNZ7drfi/+tNN6Uz/UBWzKs8+DVHhYNFtfXeZffd/hn5PeXxwTmQkVXFDuy+ZGqwEne4R2a7EELLEoUaU/ok6gy6A8IB7ha2NR5nvpzi5nMyI4V33cg0iI8Y3wEqBW4hpanTUe45/e3+cew50C2nnWg5KATdPIpgMgva04NTLgrhRp8WYS409hdeAOoBsg1SKvZRYor6ycMXi2XbvhwVvG4UwKkTHVdZk43CUeaZ+8n9ufS53YG1RYGNQED7kKXgUcv526C3TO782ramdCZG4h/2BAoDXgW6HnZAdnZCsfr5h0p/nl/2gExUpUT25T8Bf7mzddkJ963/Ffth5SnFcZWlW40RQMUQcYQZP8LPaM8Zts+6iNZWqip+DSIC+gACF64xEmLSmzbcMy+DfqPW/C3whOzZcSU1ajmixc2J7Zn+ffwp8xHQDahlcckuKOPQjTA43+F3iZc3uuY+oypkQjruFC4EjgAqDqonRkzChY7Htw0HYxO3RA8MZ7y62QoBUxmMTcAl5ZH77f8J9y3dBbm9htlGOP4ErKBYmACTqyNS2wIauw57mkVGITIIGgJCB3obIjwqcRqsIvcnQ8uXh+/ARdifPO2BOnF4GbDh25XzZf/5+W3oTcmVmqldSRuIy7h0WCAHyVty7x820HKQpllyLCYRngJKAiYQujEaXfKVltn/JOd708wsK1R+tNPNHFVmPZ/Ny63o5f71/c3x0dfZqR13RTBI6lyX+D+z5B+T4zl670KnTmtqOQIZGgRKAroIGiemSDKALsGzCotYT7BwCFRhXLT9BNlOyYj1veHgcfv5/EX5ieB1viWIFUwhBGy3WF9wB1Otl1jPC2a/in8iS74ihghCAT4FUhviO+5oAqpW7M89G5Cz6PhDVJUs6BU1zXRlrjnWCfMF/Mn/ZetdyaWfmWL5HczSXH8sJtPP73UXJMbZPpSGXE4x5hIyAbIAZhHaLTZZJpAG19ceU3EHyVggtHh0ziEbZV4tmMHJuegZ/1n/XfCB242txXi5Oljs5J7ARofuz5Y3Q0bwWq+KbqY/JhoaBB4BYgmiIB5Ltnreu7cAF1WTqZgBnFr0rxT/nUZlhYm7hd859/H9afvR49G+eY1BUf0K0LoQZkQOE7QTYtMMwsQWhrpOSifyCIIATgc+FLY7wmb6oJLqgzZvid/iLDjIkxDimS0ZcJ2redBp8pH9gf1F7lXNoaB9aJ0kANj4hfwto9aLf0sqYt4amHpjPjO6EuIBMgK6DxIpYlRqjoLNtxvDajvChBoMcizEZRZhWg2Vocex5zn7pfzV9xXbMbJZfhk8YPdgoYRNW/WDnJNJHvl+s9Jx9kFmHzIECgAiCzocqkdKdZ61yv2rTteiy/rgUISpJPpVQe2CCbUV3e330f51+gHnFcK5kl1X0Q0owMBtGBTbvpNk3xYqyLKKalDqKXYM2gN6AT4VojeuYgKe3uA/M8uDD9tgMjSI7N0NKFVswaSl0rHuAf4h/w3tPdGNpVFuMSow35CIyDRz3SuFhzAK5wacgmZCNaYXogDGASYMXimmU76FDsufETtnc7uwE2Br2L6dDVFV2ZJpwZHmPfvZ/jH1md7Btt2DbUJc+dioRFQz/Dem+08C/rK0MnleR7ocYggOAvYE7h1GQvJwbrPq90NEH5/z8CBODKMk8P09aX51spHYifeV/2n4HepJxumXbVmVF3jHbHPsG6PBG273G6LNYo4qV6IrEg1KAroDVhKiM6pdFpk63gMpL3w71JQvnIK813UjfWTRob3M5e1d/qn8wfAN1WWqEXO5LFTmIJOUO0fjz4vPNcLoAqSeaV47phR+BHYDpgnCJfpPJoOmwZMOu1yvtNwMrGWAuMkIMVGVjyG/WeEt+/X/ffQF4j27TYS1SE0ASLMAWwQC86lrVPMH9riifNZKIiGqCCYB4ga2Gfo+qm9Kqhbw50FvlR/tXEeMmRjvmTTRes2v9dcN80X8Rf4h6WXLBZhpY00ZwM4QesAib8urcRshKtYikgJacizCEdICEgGGE7YvtlhCl57X0yKTdW/NxCUAfIDRzR6ZYNGevcsB6KH/Hf5d8sXVKa7FdTU2bOismlxCG+p7kh8/hu0OqMpsjj3CGXIEOgI+CzoiZkqafk6/kwRDWe+uCAX4Xxyy6QMBST2LwbkN4AX7+fyt+lnhpb+tielONQastbhh2Amzs99a7wlKwSKAZkyiJwYIVgDmBJIawjpyajqkSu6XOr+OS+aUPQSXBOYlMCV3EalB1Xny4f0N/BHsbc8RnVVk+SP80LSBkCk70kN7Rya+2vKV6l1WMoYSbgGCA8oM3i/aV3qOEtGrHANyo8bwHlx2PMgdGaFcvZupxQXrzft1/+XxbdjZs2V6oTh88yydJEjv8SuYd0VW9iatCnPOP+4aegQWAO4IxiLiRiZ5ArmfAc9TL6c3/zxUsKz8/cFE1YRNuq3exffp/cn4meT5w/mPEVANDQy8bGisEHe6W2DzEqrFtoQGUzYkegyeAAIGhheeNlJlNqKO5Es0F4t338g2eIzo4KUvbW9Bpn3T0e5h/b396e9dzwWiNWqVJjDbTIRgMAvY34F/LF7j1pnmYEo0ZhciAQoCKg4eKA5WwoiSz48Vd2vXvBwbsG/wwl0QmViVlIHG8ebh+7n9Uff92HW38X/9PoD1qKfkT8f3357XSzL7UrFedypCNh+aBAoDtgZqH3ZBvnfGs7b7Z0h3oF/4fFI8pwT0dUBZgMm0Nd1x973+zfrB5DnENZQpWdkTZMMcb4QXP7zjawMUGs5ai7pR3ioGDP4DMgCOFI42PmBCnN7iCy13gKfY/DPkhrzbFSaha2Gjoc4R7cn+Vf+p7j3S6acBbCUsXOHkjzA239+Dh78yDuTGofJnWjZaF+4ApgCaD3IkWlIehyLFexLvYQ+5SBEEaZy8kQ+FUFmRRcDJ5eH75f6p9nXcAbhthU1EePwcrqRWm/6XpT9RGwCOucJ6lkSOINIIEgKSBCIcGkFqcpqt2vUHRcOZi/G8S8CdBPMZO8l5LbGl2AX3ff+5+NXrYcRdmTFfmRWwycR2WB4Hx29tHx2W0w6PglSeL6YNdgJ+ArIRljJCX2KXPtvTJtd519IsKUiAiNV5IcVnaZyxzD3tHf7V/VXxBda9q71xqTJ85HCV+D2v5iuOBzvK6camFmp6OGIY0gReAyYI2iS2TYqBwsN3CHNeT7J0ClBjQLa5Bl1MDY3xvo3gyfv5/+n02eN1uNmKjUplAoyxYF1sBVevr1cPBda+Nn4WSwIiIgg2AYYF8hjWPSptfqgG8qs/E5K36vRBQJr06a03LXV9rwXWgfMl/JH+1ep5yHWeKWFNH/TMaH0oJNPN/3dHIyLX0pNeW3ItXhIGAd4A5hKyLlpajpGm1acgQ3cHy1wiqHpMz80Y2WNhmanKTehZ/z3+6fO51nmsaXsdNJDu+JjARIPs15RbQZLy1qpKbbI+ghnOBCoBxgpaISZJBnxuvXsF+1ePq5wDmFjYsNUBKUuxho24OeOZ9/X9Ffsl4tW9NY+9TEUI8LgUZEAMF7YnXQsPLsK+gapNhieGCG4AkgfWFaY4+mhypkLoWzhnj+PgLD60kNzkNTJ9cbmoSdTl8rX9Tfy57XnMeaMRZvUiMNcIg/gro9CXfXcoutyqm05eXjMuEqoBVgM2D+IqglXOjCLTgxmvbDvEiBwAdATKFRfdW0WWjcRN6337kfxp9lXaIbEBfIU+nPF4o4RLW/OHmrNHZvf6ro5w+kC6Ht4EDgB+C+4dqkSWeyq3hv+LTM+kz/zcVmiq5PvlQ0GDEbXR3lH33f4p+V3mIcF5kN1WGQ9MvshrGBLbuKdnFxCSy1aFUlAiKQIMvgO2AdIWijTeZ3aciuYTMb+FD91gNCSOvN6xKb1t5aV90zXuLf31/onsZdBpp+lojShg3aCKyDJz2zeDry5e4ZKfUmFeNRIXZgDiAZoNKiq+UR6KpslnFydlc720FVRtuMBREtFXGZNdwjHmifvN/c303d25tYmB3UCc+/CmSFIv+j+hF01G/Sq25nRaRwYcBggKA04Fmh5CQDZ18rGi+SdKF5339hxP9KDo9pE+vX+Fs1HY9fep/yX7geVZxbGV8VvlEZzFdHHsGaPDL2krGgbMAo0OVtYqlg0mAvID5hOCMNZihpri39crH34/1pQtkISM2Rkk7Wn9opnNbe2R/oX8RfM50EWorXIZLojgNJGUOUfh24nzNBLqhqNmZHI7DhQ+BIoAFg6CJw5MfoU6x1sMo2KvtuAOpGdcuoEJtVLZjBnAAeWB++3/HfdR3Tm6AYcpRpD+ZK0EWQAA+6uDUzMCZrtSe85FaiFGCB4CMgdaGvI/6mzKr8ryx0NnlyPvWEV0nuDtMTote+Gsudt982H8Cf2N6H3J0ZrxXaEb6MgceMAgb8m/c0sfitC6kN5Zniw+EaYCQgIOEI4w3l2qlULZoySDe2/PxCbwfljTeRwJZgGfocuR6Nn+/f3l8f3UEa1ld5kwpOrAlGBAG+iDkEM90u+Op45rmjkiGSYERgKmC/Yjckvuf969VwonW+usCAvwXPy0pQSJToWIwb294GH7+fxV+a3gqb5liGFMeQTMt8Bf1Ae3rfdZKwu2v85/VkviIp4IRgEuBTIbsjuua7al/uxvPLeQS+iQQvCU0OvBMYl0La4R1fHzAfzV/4Hricnhn+VjTR4o0sB/kCc7zFN5cyUa2YaUwlx6Mf4SPgGqAEoRsiz6WN6TstN7He9wo8j0IFB4GM3JGxld8ZiRyZ3oDf9d/3HwpdvFrgl5CTq07USfJEbv7zOWl0Oe8Kavym7aP0oaKgQeAU4JeiPqR3J6jrtfA7NRK6k0AThalK68/1FGIYVVu2HfKffx/Xn78eABwrmNjVJVCyy6dGasDnu0c2MvDRLEWobyTnIkCgyGAEIHHhSKO4ZmrqA+6iM2C4l74cg4ZJK04kUs0XBhq1HQUfKJ/Y39Ye6Bzd2gyWjxJGDZXIZgLgvW73+nKrbeYpi2Y2oz1hLqASoCog7qKSpUIo4uzVsbY2nXwiAZqHHMxA0WFVnNlXHHkecp+6n86fc922mynX5pPLz3xKHoTcP155zzSXb5yrAWdipBhh9CBAoADgsaHHZHBnVOtXL9R05zomP6eFAkqMj6BUGtgdW08d3Z983+gfoh50XC+ZKpVCURiMEkbYAVP773ZTsWfsj6iqJRFimODOIDbgEiFXY3bmG2norj3y9ngqfa/DHUiIzcuSgNbIWkedKZ7fn+Kf8p7WXRyaWZboUqjN/0iTA0292PhecwYudOnMJmcjXCF7IAwgEODDYpblN6hLrLQxDbZw+7TBL8a3i+RQ0FVZmSOcFx5jH72f5F9b3e+bcdg71CuPo4qKhUm/yfp1tPWv8CtHJ5kkfaHHYIDgLmBModFkKucB6zkvbjR7ubj/O4SaiiyPCtPSV+PbJp2HH3kf91+D3qdccpl7VZ6RfYx9BwVBwHxX9vUxv2zaqOZlfOKyoNUgKyAzoSdjNuXM6Y4t2nKMt/19AsLziCXNchIzVklaGNzMntUf6x/NnwNdWdqllwDTCw5oST/Duv4DOMKzoa6E6k2mmOO8YUjgRyA5IJmiXGTt6DVsE7DltcS7R0DEhlILhxC+VNVY7tvznhHfv1/430KeJxu5GFAUipAKizZFtoA1upy1VLBEa85n0KSkYhvggqAdIGkhnKPmpu/qm+8ItBB5S37PRHKJjA70k0iXqVr83W9fNB/FH+QemRy0GYtWOhGhzOdHsoItPID3V3IX7WapI6Wp4s2hHaAgoBahOKL35b9pNK13ciL3UHzVwknHwk0XkeTWCVno3K4eiV/yH+dfLt1WGvCXWFNsjpDJrEQoPq35J7P97tWqkKbL494hmCBDYCKgsSIi5KVn3+vzsH31WLraAFkF68spECtUj9i4246eP19/n8wfp94dm/7Yo5To0HELYcYkAKG7A/X0cJmsFmgJpMxicaCFoA2gRyGpI6Nmnup/bqNzpbjePmLDyglqjl1TPhctmpGdVh8tn9Gfwt7JnPTZ2hZU0gXNUUgfgpo9Kne6MnEts6liZdgjKiEnYBegOyDLIvolcyjb7RTx+fbjvGiB34deDLxRVVXH2becTl68H7ff/58ZHZEbOpevE41POQnYhJV/GPmNdFrvZ2rUpwAkASHooEEgDaCKIirkXieLK5RwFvUsumz/7YVFCspP11RJGEGbqJ3rX35f3Z+LnlKcA5k11QZQ1svNBpFBDfur9hTxL6xfqEPlNeJJIMpgP2AmYXcjYSZOqiOufrM7OHD99gNhSMiOBRLyVvCaZR07nuWf3F/gXvic9Bon1q6SaQ27CEyDBz2UOB2yy24B6eImB6NIIXLgECAhIN8ivWUnqIQs8zFRNrc7+4F0xvlMIFEE1YVZRRxtHm1fu9/WX0IdyttDWATULY9gykTFAv+EOjN0uK+6KxnndaQlYfrgQGA6IGRh9CQX53erNe+wdIE6P79BhR3Kas9CVAFYCRtA3dXfe9/t364eRpxHWUdVoxE8DDgG/oF6O9Q2tfFGrOnovyUgYqHg0GAyoAchRiNgJj+piK4astE4A/2JQzgIZg2sEmWWslo3XN9e3B/l3/xe5l0yWnSWx5LLjiRI+UN0Pf54QbNmLlEqIyZ4Y2dhf6AKIAhg9KJCJR1obSxSMSj2CruOAQnGk8vDkPOVAZkRHAqeXR++X+vfaZ3DW4sYWdRND8gK8IVwP+/6WfUXMA2roCespEsiDmCBYCggQCH+o9KnJOrYL0p0VfmSPxVEtgnKjyyTuFePWxgdvt83n/xfj165HEnZl9X/EWEMoodrweb8fPbXsd6tNWj75Uyi++DX4CcgKWEWoyBl8WlurbdyZzeW/RxCjkgCzVISF9Zy2cgcwd7RH+3f1t8S3W9agBdf0y2OTUlmA+F+aPjmc4Hu4SplJqqjiCGN4EWgMOCLIkfk1GgXLDGwgPXeeyDAnsYty2YQYRT82Jwb5p4LX7+f/99P3jqbkditlKvQLsscRd1AW7rBNbZwYmvnp+SksmIjYINgF6BdIYpjzqbTKrsu5LPq+ST+qQQNyanOldNuV1Ra7Z1mnzIfyd/vHqpcixnnFhpRxU0Mx9kCU7zmN3oyN21BqXmlueLXoSDgHWAM4Shi4eWkaRUtVHI99yo8r0IkR58M95GI1jJZl5yjHoTf9F/wHz4daxrK17cTTs71yZKETr7TuUt0Hq8yaqim3iPqYZ2gQmAbIKMiDySMJ8Hr0fBZtXJ6s0AzRYeLB9ANlLbYZZuBXjhff1/SX7SeMJvXWMCVCdCVC4fGSoDH+2i11nD37DAoHiTa4nmghyAIYHthV2OL5oJqXu6/80A49748g6VJCA5+EuNXGBqCHUzfKt/Vn81e2lzLWjWWdJIozXbIBgLAvU+33TKQ7c8puKXoozShK2AU4DHg+6KkpVho/OzycZT2/XwCAfnHOoxcEXkVsJll3ELetx+5X8ffZ92lmxRXzVPvjx3KPsS8Pz75sTR770RrLOcS5A3h7uBA4AagvKHXZEUnraty7/K0xrpGf8dFYIqoj7lUL9gt21qd4999n+NfmB5lHBuZEtVnEPqL8sa4ATQ7kLZ3MQ5suahYpQSikaDMYDqgG2Flo0omcqnDbltzFbhKfc/DfAilzeXSl1bamlUdMd7iX9/f6l7JHQpaQxbOEovN4EizAy29ubgA8ytuHan45hijUuF3IA3gGCDP4qhlDWilbJDxbDZQ+9TBTwbVjD/Q6FVtmTLcIR5n37zf3h9QHd7bXNgi1A9PhUqqxSl/qjoXdNnv12typ0jkcqHBoICgM6BXYeEkP2caaxSvjDSbOdj/W0T5CgjPZBPnl/TbMp2N33pf8x+6HlicXtlj1YORX8xdhyVBoLw5NphxpazEaNRlb+Kq4NLgLmA8YTUjCaYj6ait97Krt919YsLSyEMNjFJKFpwaJtzVHthf6N/F3zZdCBqPVybS7k4JSR/Dmr4j+KUzRq6tKjpmSiOy4USgSGA/4KXibWTDqE6sb/DENiR7Z4DkBm/LopCWlSmY/pv+Hhcfvx/zH3dd1tukGHdUbo/sStbFloAV+r51OLAra7lngCSY4hWggeAiIHOhq+P6psfq9y8mdC/5a77vRFFJ6I7OE55XuprJHbafNd/BX9qeipyhGbPV31GETMgHkkINPKH3OnH97RApEaWcYsWhGuAjoB8hBiMKJdYpTu2UckH3sHz1wmjH340yUfwWHFn3XLdejR/wX9/fIl1EmtqXfpMQDrIJTEQH/o55CfPirv2qfOa8o5Qhk2BEYCkgvOIzpLqn+OvP8Jx1uHr6QHjFyctE0EPU5FiI29meBN+/n8afnN4Nm+pYixTNEFLLQkYDwIH7JbWYMIBsASg45IBiayCEoBIgUSG4I7bmtqpabsEzxTk+fkLEKMlHTrcTFBd/Wp5dXZ8vn84f+d67nKHZwtZ6UehNMkf/gno8y3edMlbtnOlP5cpjIaEkYBogAyEYYswliWk17TGx2LcDvIjCPsd7jJdRrNXbGYZcl96AH/Zf+J8M3b/a5NeVk7EO2on4xHV++XlvdD9vDyrApzCj9qGjoEGgE+CVYjtkcuekK7BwNTUMeozADUWjSuZP8BRd2FIbs93xX37f2J+BXkNcL5jd1SrQuMuthnFA7ftNdjhw1ixJ6HKk6WJB4MjgA2Bv4UWjtGZmKj5uXHNaeJE+FgOACSWOHxLIlwKasl0Dnygf2V/X3urc4ZoRFpRSS82cCGyC5z1098By8K3q6Y8mOWM/IS9gEiAooOwijyV96J3sz/Gv9pb8G4GURxbMe5EclZkZVBx3HnHfut/P33YdudsuF+uT0U9CSmUE4r9kudV0nO+hqwVnZeQaofVgQKA/4G9hxCRsZ1ArUa/OdOC6H7+hRTwKRw+bVBaYGdtMndxffJ/pH6Qed1wzmS9VR9EeTBiG3oFae/V2WXFs7JPoraUT4ppgzmA2IBAhVGNzJhap4244MvA4I/2pQxcIgw3GUrwWhNpE3Sfe3x/jH/Qe2R0gGl4W7ZKujcWI2UNUPd84ZDMLbnmpz+Zp414he+AL4A9gwOKTZTMoRqyusQd2anuuQSlGscve0MuVVZkgnBTeYh+93+WfXh3y23YYANRxD6mKkQVP/9A6e7T7b/TrS2ecZH/hyGCA4C1gSqHOJCbnPSrzr2g0dXmyfzVElIonDwXTzdfgmyQdhd943/hfhd6qXHZZQBXkEUNMg0dLwcb8Xjb68YStHyjp5X9itCDVoCpgMeEkYzMlyGmI7dRyhnf2/TyCrUggDWySLtZFmhYcyt7Un+ufzx8GHV2aqhcGExDObokGA8F+SXjIs6buiWpRppujvmFJoEbgN6CXIljk6agwbA3w33X+OwEA/kYMC4GQuVTRGOvb8V4Q379f+h9EnipbvRhVFJAQEIs8xb0AO/qitVpwSWvSZ9QkpqIdIIKgHGBnIZmj4qbrKpZvArQKOUU+yQRsiYZO71NEV6Xa+l1t3zPfxh/l3pwcuBmP1j+Rp8zth7kCM7yHN10yHS1rKSdlrGLPYR4gICAVITXi9CW66S9tcXIc90o8z0JDh/xM0lHgFgVZ5hysXoif8p/o3zGdWZr1F12Tck6XCbKELr60OS2zwy8aapSmzuPgIZjgQyAhYK7iH6ShZ9rr7fB39VI604BSxeWLI5AmVIuYtZuMnj4ff5/NH6neINvDGOhU7lB3C2gGKoCn+wo1+jCerBqoDSTO4nLgheAMoEUhpiOfZpoqee6dc5941/5cg8QJZM5YEzmXKhqPHVSfLR/SH8SezFz4md6WWhILjVeIJgKgfTC3gDK2bbhpZiXa4yvhKCAXIDmgyKL2ZW6o1q0PMfO23XxiQdlHWAy3EVCVxBm03Exeu1+4H8EfW52Umz7XtBOTDz8J3wSb/x85kzRgb2wq2KcDJAMh6aBBIAygh+InpFnnhmuO8BD1Jnpmv+cFfsqEz9JURNh+W2Yd6h9+X96fjd5V3AeZOpUL0NzL00aXwRQ7sfYasTSsY+hHZTgiSmDKoD6gJKF0I11mSeoeLnjzNPhqve/DWwjCzj/Srdbs2mKdOd7lH90f4d77XPfaLFaz0m7NgUiTAw19mngjctCuBqnl5gpjSeFzoA/gH6DcornlI2i+7K1xSvawu/UBbobzTBrRABWBWUIcax5sX7wf199EXc4bR5gJ1DNPZspLBQk/iro5dL4vvusd53jkJ6H74ECgOSBiIfDkE6dyqzBvqnS6+fk/e0TXimUPfVP9F8Xbfp2Un3uf7p+wHkmcS1lMFaiRAgx+RsUBgLwadruxS+zuaIKlYyKjYNDgMeAFYUNjXGY66YNuFPLK+D19QwMxyGBNptJhFq6aNJzd3tuf5l/93ukdNdp5FszS0U4qiP/Der3EuIeza65Vqibme2NpYUCgSeAG4PIifqTZKGgsTHEitgQ7h8EDho3L/hCulT2YzhwInlwfvp/tH2vdxpuPWF6UUo/OCvcFdr/2Ol/1HLASq6Rnr+RNYg+ggWAnIH3hu2POpyAq0q9EdE95i/8PBK/JxM8nU7QXi9sVnb2fN1/9X5FevBxNmZxVxJGmzKjHckHtPEM3HbHjrTno/2VPIv2g2GAmoCehE+McpezpaS2xcmE3kH0WAogIPQ0M0hMWbxnFXMAe0J/uH9hfFZ1y2oSXZNMzTlNJbEPn/m847DOHbuXqaSato4ohjuBFYC+giOJEpNAoEewr8Lr1mDsaQJhGJ8tgkFwU+NiY2+SeCl+/n8Dfkh4925XYspSxUDTLIoXjgGI6xzW8MGdr6+foJLSiJKCDoBagWyGHY8qmzmq1rt7z5HkefqKEB4mkDpCTahdQ2usdZR8xn8pf8N6tXI7Z69YfkcsNEwffglo87Hd/8jytRml9Zbyi2SEhYBygCyElot4ln+kQLU6yN7cjvKjCHgeZDPIRhFYuWZTcoV6EH/Sf8Z8Ana6azxe8E1SO+8mYxFU+2flRdCPvNyqspuEj7GGeoEJgGeCg4gvkh+f864xwU3VsOq0ALMWBiwIQCNSy2GJbvx33H39f01+2njOb21jFlQ9QmwuOBlEAzjtutdww/Ow0aCFk3WJ7IIdgB6B5oVRjh+a9qhluufN5+LE+NgOfCQJOeRLe1xSav50LXypf1h/PHt0czxo6FnnSLo19CAyCxv1V9+Myli3T6bxl62M2YSvgFGAwIPjioOVT6Pes7LGOtvb8O8GzhzSMVpF0VayZYxxA3rYfuZ/JH2odqRsYl9KT9Q8jygUEwn9FOfc0QW+JazEnFiQP4e/gQKAFoLph1CRBJ6irbW/stMB6f/+BBVqKow+0VCuYKptYXeKffZ/kX5oeaFwfmReVbJDAjDkGvkE6e5b2fPETbL4oXCUHIpMgzKA54BlhYqNGZm3p/i4Vcw94RD3JQ3YIoA3gkpLW1xpSXTAe4d/gX+wey50N2keW01KRjeaIuUMz/b/4BvMwriJp/KYbo1Thd+ANoBagzWKk5QkooCyLMWY2SnvOgUjGz4w6UOOVaZkv3B8eZt+9H99fUp3iW2EYJ9QVD4tKsUUv/7C6HbTfb9xrdqdMJHThwqCAoDKgVSHd5DsnFWsPL4Y0lPnSv1UE8woDT18T41fxmzBdjJ96H/QfvB5bnGLZaJWJEWXMY8crgab8P3aeMaqsyOjYJXJirGDTYC2gOqEyYwXmH2mjbfGypXfW/VyCzIh9TUcSRZaYWiQc017X3+lfx1843Quak9csEvQOD4kmA6E+KjirM0vuseo+JkzjtKFFYEggPqCjYmnk/ygJrGow/fXeO2EA3cZqC50QkZUlmPtb/B4WH78f9F95ndobqFh8VHRP8krdBZzAHDqEdX5wMGu9Z4OkmyIW4IHgISBxYajj9qbDKvGvIHQpuWU+6MRLCeLOyNOaF7daxt21HzVfwh/cno2cpNm4leTRikzOR5jCE7yoNwAyAu1UqRUlnyLHIRtgIuAdYQNjBqXRqUmtjrJ792o874Jix9nNLNH3VhhZ9Fy1Xoxf8J/hXyTdSBrfF0PTVY64SVLEDn6U+Q/z5+7CaoDm/6OWIZRgRCAn4LqiMGS2Z/PryjCWdbH688ByhcPLf1A+1KAYhdvXngPfv5/Hn58eENvumJAU0pBYy0iGCkCIOyu1nfCFbAVoPCSC4mxghOARIE8htSOy5rHqVO77M7749/58Q+LJQY6x0w+Xe5qb3VwfL1/O3/vevlylmceWf5HuTTiHxgKAfRG3ovJcLaGpU2XNIyNhJSAZoAGhFeLIZYTpMK0r8dK3PTxCQjiHdYyR0agV11mDXJYev1+2n/ofD12DWylXmtO2zuCJ/wR7vv+5dXQE71PqxKczo/ihpKBBoBKgkyI4JG7nnyuqsC81BjqGQAbFnQrgj+sUWdhO27Gd8B9+39mfg15GXDOY4pUwUL7Ls8Z3gPR7U3Y+MNtsTmh2JOviQ2DJIAKgbiFCo7CmYWo5LlZzVDiKvg/DugjfzhnSxBc/Gm/dAd8nn9of2Z7tnOVaFZaZklGNokhywu19ezfGMvYt72mS5jxjAOFwIBHgJyDpYouleWiYrMoxqbaQvBUBjgcRDHYRF9WVGVEcdR5w37sf0R94nb1bMlfw09cPSEprROk/avnbdKJvpmsJZ2jkHOH2YECgPqBtIcDkaGdLK0wvyHTaehl/mwU2CkFPllQSWBabSl3bH3yf6h+mHnqcN5k0VU1RJEwexuUBYLv7tl8xciyYaLElFmKb4M7gNWAOYVGjb2YSKd3uMjLp+B29owMQyL1NgRK3loEaQh0mHt5f49/13tvdI9pilvLStE3LiN/DWr3leGozEO5+adOmbONf4XygC2AN4P5iT+Uu6EFsqPEBdmQ7p8EjBqvL2ZDG1VGZHZwS3mEfvh/m32Bd9ht6WAXUds+vypdFVn/WekG1APA560+nn6RCIgmggOAsYEhhyyQi5zhq7i9iNG75q/8uxI5KIU8A08mX3Rsh3YRfeJ/5H4eerVx6WUTV6ZFJTImHUkHNfGQ2wLHJ7SNo7WVCIvWg1eApoDAhIaMvZcOpg63OsoA38L02AqdIGk1nUioWQdoTXMke09/sH9DfCJ1hGq6XCxMWjnSJDIPHvk+4zrOsbo4qVaaeo4BhiqBGoDZglOJVpOVoKywIMNl19/s6gLgGBgu8EHSUzRjom+9eD9+/n/tfRt4tm4FYmhSVkBaLAwXDgEJ66LVf8E5r1qfXZKkiHmCC4BtgZSGWY96m5mqQ7zyzw/l+voKEZkmAjupTf9diWvfdbF8zX8bf556e3LvZlJYE0e2M88e/Qjo8jXdi8iJtb6kq5a8i0OEeoB9gE2EzIvBltmkqLWuyFrdDvMkCfUe2jMzR25YBmeNcqp6H3/Lf6l80HV0a+Vdik3gOnQm5BDT+unkzs8ivHyqYptHj4iGZ4EMgICCsohxknSfV6+hwcfVL+s0ATIXfix4QIVSHWLKbil49H3+fzh+sHiPbxxjtVPPQfQtuhjDArnsQNf/wo6we6BBk0SJ0YIYgC+BDIaMjm2aVanRul3OZONF+VgP9yR8OUtM1FyZajF1THyyf0t/GXs8c/FnjVl9SEU1dyCxCpv0294Xyu6286Wml3aMtoSigFqA4IMXi8uVqKNGtCXHtdtb8W8HSx1JMsZFL1cAZsdxKnrpfuF/CX14dl9sDF/kTmM8FSiVEon8luZk0Ze9w6tznBmQFYeqgQSALYIWiJGRV54FriTAK9R/6YD/gxXjKvw+NVECYextj3ejffh/fn4/eWNwLmT+VEVDiy9mGnkEau7g2IHE57GhoSqU6okvgyuA9oCKhcSNZZkVqGO5y8y64ZD3pQ1TI/Q36kqlW6Vpf3The5J/dn+Oe/hz7mjDWuRJ0jYeImUMT/aC4KXLV7gsp6aYNY0uhdGAPYB4g2iK2ZR7oueynsUT2qnvugWhG7UwVkTtVfVk/HCkea1+8H9kfRt3Rm0vYDtQ4z2zKUYUPv5D6P3SDr8PrYid8JCnh/SBAoDggYCHtpA+nbesq76R0tHnyv3TE0Ypfj3hT+NfCW3wdkx97X++fsh5MnE8ZUNWt0QgMRIcLgYc8IHaBcZDs8uiGZWWipODRIDEgA6FAo1imNmm97c7yxLg3PXyC64haTaGSXFaq2jHc3B7a3+bf/57r3TmafZbSEtcOMMjGA4E+CviNc3DuWmoq5n5jayFBYEmgBWDvonsk1Ohi7EaxHLY9+0FBPUZHy/iQqdU5mMscBp5bH76f7l9uHcnbk5hjlFhP1Ar9RX0//LpmNSJwF6uop7MkT+IQoIFgJiB74bhjyqcbKs0vfnQJOYV/CISpyf9O4lOv14ibEx28Hzcf/h+THr8cUZmhFcnRrMyvB3jB87xJdyNx6O0+aMMlkeL/INjgJeAl4REjGSXoaWPtq7Ja94o9D4KByDcNB5IOlmtZwpz+Xo/f7p/Z3xgddlqJF2oTOQ5ZiXLD7j51ePIzjO7qqm0msKOMIY/gRSAuYIZiQSTLqAzsJnC0tZG7E8CSBiHLWxBXVPSYlZviXglfv5/CH5QeANvaGLeUtxA6yykF6gBoes01gbCsa/An62S3IiXgg+AVoFkhhCPGpsmqsC7Y8945GD6cRAGJnk6Lk2WXTVronWOfMV/LH/KesByS2fBWJNHRDRlH5cJgfPJ3RfJB7YrpQSX/YtrhIiAcIAmhIyLapZtpCu1I8jF3HTyighfHkwzs0b+V6pmR3J9eg1/03/LfAx2yGtOXgVOaTsIJ30RbvuA5V3QpbzvqsKbkY+5hn6BCIBignqIIZIPn9+uGsE11ZbqmgCaFu0r8j8PUrphfG7zd9h9/X9RfuN42299YylUU0KELlEZXgNR7dPXhsMHseKgk5N+ifGCHoAagd6FRY4QmuOoULrPzc7iq/i/DmMk8jjPS2pcRGrzdCd8qH9bf0N7f3NLaPtZ/EjSNQ0hSws19XDfo8ptt2GmAJi4jOCEsoBPgLqD2Yp1lT6jybObxiLbwvDVBrUcujFERb5WomWAcft51X7nfyp9snaxbHNfXk/rPKcoLhMj/S3n9NEbvjis1JxkkEiHxIECgBGC4IdDkfOdjq2fv5rT6Ojl/usUUSp2Pr1QnWCcbVh3hX31f5V+cHmtcI5kcVXIQxow/RoTBQPvc9kJxWGyCaJ+lCaKUYMzgOSAXoV/jQmZpafiuD7MJOH29gwNvyJpN21KOVtNaT90uXuFf4R/tns5dEZpMFtiSl03siL/DOn2GOEyzNe4m6cCmXmNWoXigDSAVIMrioWUEqJsshXFf9kP7yAFChsmMNNDelWWZLNwdHmXfvV/gn1Td5ZtlWCzUGo+RSreFNn+2+iO05S/ha3rnT2R3IcPggKAxoFMh2qQ3JxCrCa+ANI65zD9OxO0KPY8aE98X7hst3Ysfed/0373eXpxm2W1VjpFrjGpHMgGtfAV24/Gv7M1o26V1Iq3g06As4DjhL6MCJhqpni3r8p830L1WAsZId01B0kEWlJohXNHe1x/p38kfO50PGphXMVL5zhXJLIOnvjB4sPNRbraqAiaP47ahRiBH4D0goOJmpProBGxksPf117tawNeGZAuXkIzVIVj4W/neFN+/H/Vfe93dW6yYQVS5z/hK40WjQCK6inVD8HVrgafG5J1iGCCCICAgb2Gl4/Km/mqsLxp0I3le/uKERQndDsPTlZez2sRds581H8Lf3l6QnKiZvVXqEZBM1IefQho8rncF8ggtWSkY5aGiyOEb4CJgG6EAowLlzSlEbYiydbdjvOkCXIfTzSeR8tYUmfGcs56Ln/Ef4t8nXUua41dJE1tOvolZBBT+mzkV8+1uxyqE5sKj2CGVIEPgJqC4Ii0ksifu68RwkDWruu1AbAX9yznQOdScGIKb1V4Cn7+fyN+hXhQb8piU1NgQXstOxhDAjrsxtaNwimwJqD+khSJtoIUgECBNIbIjryatKk+u9TO4ePF+dgPciXvObJMLV3gamV1any7fz1/9noEc6ZnMFkTSNA0+x8xChv0Xt6iyYW2mKVclz+MlISWgGSA/4NMixOWAaSutJjHMdzb8fAHyR2/MjJGjldOZgFyUHr6ftt/7XxHdhtstl5/TvE7mycWEgj8GObt0Cm9Y6sinNuP64aWgQWARYJDiNKRqp5orpTApNT+6QAA\" type=\"audio/wav\" />\n",
       "                    Your browser does not support the audio element.\n",
       "                </audio>\n",
       "              "
      ],
      "text/plain": [
       "<IPython.lib.display.Audio object>"
      ]
     },
     "metadata": {},
     "output_type": "display_data"
    }
   ],
   "source": [
    "synth(440)"
   ]
  },
  {
   "cell_type": "code",
   "execution_count": 5,
   "metadata": {},
   "outputs": [],
   "source": [
    "notes = 'C,C#,D,D#,E,F,F#,G,G#,A,A#,B,C'.split(',')\n",
    "freqs = 440. * 2**(np.arange(3, 3 + len(notes)) / 12.)\n",
    "notes = list(zip(notes, freqs))"
   ]
  },
  {
   "cell_type": "code",
   "execution_count": 6,
   "metadata": {},
   "outputs": [
    {
     "data": {
      "application/vnd.jupyter.widget-view+json": {
       "model_id": "385e73db9ed44232a822085f6cdc489b",
       "version_major": 2,
       "version_minor": 0
      },
      "text/plain": [
       "Box(children=(Button(description='C', layout=Layout(border='1px solid black', height='60px', width='30px'), st…"
      ]
     },
     "metadata": {},
     "output_type": "display_data"
    }
   ],
   "source": [
    "layout = widgets.Layout(\n",
    "    width='30px', height='60px',\n",
    "    border='1px solid black')\n",
    "\n",
    "buttons = []\n",
    "for note, f in notes:\n",
    "    button = widgets.Button(\n",
    "        description=note, layout=layout)\n",
    "\n",
    "    def on_button_clicked(f, b):\n",
    "        # When a button is clicked, we play the sound\n",
    "        # in a dedicated Output widget.\n",
    "        with widgets.Output():\n",
    "            synth(f)\n",
    "\n",
    "    button.on_click(partial(on_button_clicked, f))\n",
    "    buttons.append(button)\n",
    "\n",
    "# We place all buttons horizontally.\n",
    "widgets.Box(children=buttons)"
   ]
  }
 ],
 "metadata": {
  "kernelspec": {
   "display_name": "Python 3",
   "language": "python",
   "name": "python3"
  },
  "language_info": {
   "codemirror_mode": {
    "name": "ipython",
    "version": 3
   },
   "file_extension": ".py",
   "mimetype": "text/x-python",
   "name": "python",
   "nbconvert_exporter": "python",
   "pygments_lexer": "ipython3",
   "version": "3.7.0"
  }
 },
 "nbformat": 4,
 "nbformat_minor": 2
}
